{
 "cells": [
  {
   "cell_type": "markdown",
   "metadata": {},
   "source": [
    "# WeatherPy\n",
    "----\n",
    "\n",
    "#### Note\n",
    "* Instructions have been included for each segment. You do not have to follow them exactly, but they are included to help you think through the steps."
   ]
  },
  {
   "cell_type": "code",
   "execution_count": 7,
   "metadata": {
    "scrolled": true
   },
   "outputs": [],
   "source": [
    "# Dependencies and Setup\n",
    "import matplotlib.pyplot as plt\n",
    "import pandas as pd\n",
    "import numpy as np\n",
    "import requests\n",
    "import time\n",
    "import json\n",
    "from scipy.stats import linregress\n",
    "\n",
    "# Import API key\n",
    "from api_keys import weather_api_key\n",
    "\n",
    "# Incorporated citipy to determine city based on latitude and longitude\n",
    "from citipy import citipy\n",
    "\n",
    "# Output File (CSV)\n",
    "output_data_file = \"output_data/cities.csv\"\n",
    "\n",
    "# Range of latitudes and longitudes\n",
    "lat_range = (-90, 90)\n",
    "lng_range = (-180, 180)"
   ]
  },
  {
   "cell_type": "markdown",
   "metadata": {},
   "source": [
    "## Generate Cities List"
   ]
  },
  {
   "cell_type": "code",
   "execution_count": 8,
   "metadata": {},
   "outputs": [
    {
     "data": {
      "text/plain": [
       "639"
      ]
     },
     "execution_count": 8,
     "metadata": {},
     "output_type": "execute_result"
    }
   ],
   "source": [
    "# List for holding lat_lngs and cities\n",
    "lat_lngs = []\n",
    "cities = []\n",
    "\n",
    "# Create a set of random lat and lng combinations\n",
    "lats = np.random.uniform(lat_range[0], lat_range[1], size=1500)\n",
    "lngs = np.random.uniform(lng_range[0], lng_range[1], size=1500)\n",
    "lat_lngs = zip(lats, lngs)\n",
    "\n",
    "# Identify nearest city for each lat, lng combination\n",
    "for lat_lng in lat_lngs:\n",
    "    city = citipy.nearest_city(lat_lng[0], lat_lng[1]).city_name\n",
    "    \n",
    "    # If the city is unique, then add it to a our cities list\n",
    "    if city not in cities:\n",
    "        cities.append(city)\n",
    "        \n",
    "\n",
    "# Print the city count to confirm sufficient count\n",
    "len(cities)"
   ]
  },
  {
   "cell_type": "markdown",
   "metadata": {},
   "source": [
    "### Perform API Calls\n",
    "* Perform a weather check on each city using a series of successive API calls.\n",
    "* Include a print log of each city as it'sbeing processed (with the city number and city name).\n"
   ]
  },
  {
   "cell_type": "code",
   "execution_count": null,
   "metadata": {},
   "outputs": [],
   "source": [
    "# # find the closest restaurant of each type to coordinates\n",
    "\n",
    "# base_url = \"https://maps.googleapis.com/maps/api/place/nearbysearch/json\"\n",
    "# params = {\n",
    "#     \"location\": \"39.952583,-75.16522\",  # philadelphia coords\n",
    "#     \"rankby\": \"distance\",\n",
    "#     \"type\": \"restaurant\",\n",
    "#     \"key\": gkey,\n",
    "# }\n",
    "# # use iterrows to iterate through pandas dataframe\n",
    "# for index, row in types_df.iterrows():\n",
    "\n",
    "#     # get restaurant type from df\n",
    "#     restr_type = row['ethnicity']\n",
    "\n",
    "#     # add keyword to params dict\n",
    "#     params['keyword'] = restr_type\n",
    "\n",
    "#     # assemble url and make API request\n",
    "#     print(f\"Retrieving Results for Index {index}: {restr_type}.\")\n",
    "#     response = requests.get(base_url, params=params).json()\n",
    "    \n",
    "#     # extract results\n",
    "#     results = response['results']\n",
    "    \n",
    "#     try:\n",
    "#         print(f\"Closest {restr_type} restaurant is {results[0]['name']}.\")\n",
    "        \n",
    "#         types_df.loc[index, 'name'] = results[0]['name']\n",
    "#         types_df.loc[index, 'address'] = results[0]['vicinity']\n",
    "#         types_df.loc[index, 'price_level'] = results[0]['price_level']\n",
    "#         types_df.loc[index, 'rating'] = results[0]['rating']\n",
    "        \n",
    "#     except (KeyError, IndexError):\n",
    "#         print(\"Missing field/result... skipping.\")\n",
    "        \n",
    "#     print(\"------------\")"
   ]
  },
  {
   "cell_type": "code",
   "execution_count": 9,
   "metadata": {},
   "outputs": [
    {
     "name": "stdout",
     "output_type": "stream",
     "text": [
      "City\n",
      "City\n",
      "City\n",
      "City\n",
      "City\n",
      "City\n",
      "City\n",
      "City\n",
      "Wasn't found\n",
      "City\n",
      "City\n",
      "City\n",
      "Wasn't found\n",
      "City\n",
      "City\n",
      "City\n",
      "City\n",
      "City\n",
      "City\n",
      "City\n",
      "City\n",
      "City\n",
      "City\n",
      "City\n",
      "City\n",
      "City\n",
      "City\n",
      "City\n",
      "City\n",
      "City\n",
      "City\n",
      "City\n",
      "City\n",
      "City\n",
      "City\n",
      "City\n",
      "City\n",
      "City\n",
      "City\n",
      "City\n",
      "City\n",
      "Wasn't found\n",
      "City\n",
      "City\n",
      "City\n",
      "City\n",
      "City\n",
      "City\n",
      "City\n",
      "City\n",
      "City\n",
      "City\n",
      "City\n",
      "City\n",
      "City\n",
      "City\n",
      "City\n",
      "City\n",
      "City\n",
      "City\n",
      "City\n",
      "City\n",
      "City\n",
      "City\n",
      "City\n",
      "City\n",
      "City\n",
      "City\n",
      "City\n",
      "City\n",
      "City\n",
      "City\n",
      "City\n",
      "City\n",
      "City\n",
      "City\n",
      "City\n",
      "City\n",
      "City\n",
      "Wasn't found\n",
      "City\n",
      "City\n",
      "City\n",
      "City\n",
      "Wasn't found\n",
      "City\n",
      "City\n",
      "City\n",
      "City\n",
      "Wasn't found\n",
      "City\n",
      "City\n",
      "City\n",
      "City\n",
      "City\n",
      "City\n",
      "City\n",
      "City\n",
      "City\n",
      "City\n",
      "City\n",
      "City\n",
      "City\n",
      "City\n",
      "City\n",
      "City\n",
      "City\n",
      "City\n",
      "City\n",
      "City\n",
      "City\n",
      "City\n",
      "City\n",
      "City\n",
      "City\n",
      "City\n",
      "City\n",
      "City\n",
      "City\n",
      "City\n",
      "City\n",
      "City\n",
      "City\n",
      "City\n",
      "City\n",
      "Wasn't found\n",
      "City\n",
      "City\n",
      "City\n",
      "City\n",
      "City\n",
      "City\n",
      "City\n",
      "City\n",
      "City\n",
      "City\n",
      "City\n",
      "City\n",
      "City\n",
      "City\n",
      "City\n",
      "City\n",
      "City\n",
      "City\n",
      "City\n",
      "City\n",
      "City\n",
      "City\n",
      "City\n",
      "City\n",
      "City\n",
      "City\n",
      "City\n",
      "City\n",
      "City\n",
      "Wasn't found\n",
      "City\n",
      "City\n",
      "City\n",
      "City\n",
      "City\n",
      "City\n",
      "City\n",
      "City\n",
      "City\n",
      "City\n",
      "City\n",
      "City\n",
      "City\n",
      "City\n",
      "Wasn't found\n",
      "City\n",
      "City\n",
      "City\n",
      "City\n",
      "City\n",
      "City\n",
      "City\n",
      "City\n",
      "Wasn't found\n",
      "City\n",
      "City\n",
      "Wasn't found\n",
      "City\n",
      "City\n",
      "City\n",
      "City\n",
      "City\n",
      "City\n",
      "City\n",
      "Wasn't found\n",
      "City\n",
      "Wasn't found\n",
      "City\n",
      "City\n",
      "City\n",
      "Wasn't found\n",
      "Wasn't found\n",
      "City\n",
      "City\n",
      "City\n",
      "City\n",
      "City\n",
      "City\n",
      "City\n",
      "City\n",
      "Wasn't found\n",
      "City\n",
      "City\n",
      "Wasn't found\n",
      "City\n",
      "City\n",
      "City\n",
      "City\n",
      "City\n",
      "City\n",
      "City\n",
      "City\n",
      "City\n",
      "City\n",
      "City\n",
      "City\n",
      "City\n",
      "City\n",
      "City\n",
      "City\n",
      "City\n",
      "City\n",
      "City\n",
      "City\n",
      "Wasn't found\n",
      "City\n",
      "City\n",
      "City\n",
      "City\n",
      "City\n",
      "City\n",
      "City\n",
      "City\n",
      "City\n",
      "City\n",
      "Wasn't found\n",
      "City\n",
      "City\n",
      "City\n",
      "City\n",
      "City\n",
      "City\n",
      "City\n",
      "City\n",
      "City\n",
      "City\n",
      "City\n",
      "City\n",
      "Wasn't found\n",
      "City\n",
      "City\n",
      "City\n",
      "City\n",
      "City\n",
      "City\n",
      "City\n",
      "City\n",
      "City\n",
      "City\n",
      "City\n",
      "City\n",
      "City\n",
      "City\n",
      "City\n",
      "City\n",
      "City\n",
      "City\n",
      "City\n",
      "City\n",
      "City\n",
      "City\n",
      "City\n",
      "City\n",
      "Wasn't found\n",
      "City\n",
      "Wasn't found\n",
      "City\n",
      "City\n",
      "City\n",
      "City\n",
      "City\n",
      "City\n",
      "City\n",
      "City\n",
      "City\n",
      "City\n",
      "City\n",
      "Wasn't found\n",
      "City\n",
      "City\n",
      "City\n",
      "City\n",
      "Wasn't found\n",
      "City\n",
      "City\n",
      "Wasn't found\n",
      "City\n",
      "Wasn't found\n",
      "City\n",
      "City\n",
      "City\n",
      "City\n",
      "City\n",
      "Wasn't found\n",
      "City\n",
      "City\n",
      "City\n",
      "City\n",
      "City\n",
      "Wasn't found\n",
      "City\n",
      "City\n",
      "City\n",
      "City\n",
      "City\n",
      "City\n",
      "City\n",
      "Wasn't found\n",
      "City\n",
      "City\n",
      "City\n",
      "City\n",
      "City\n",
      "City\n",
      "City\n",
      "City\n",
      "City\n",
      "City\n",
      "City\n",
      "City\n",
      "City\n",
      "City\n",
      "City\n",
      "City\n",
      "City\n",
      "Wasn't found\n",
      "City\n",
      "City\n",
      "Wasn't found\n",
      "City\n",
      "City\n",
      "City\n",
      "City\n",
      "City\n",
      "City\n",
      "Wasn't found\n",
      "City\n",
      "City\n",
      "City\n",
      "Wasn't found\n",
      "City\n",
      "City\n",
      "City\n",
      "City\n",
      "City\n",
      "City\n",
      "City\n",
      "City\n",
      "City\n",
      "City\n",
      "City\n",
      "City\n",
      "City\n",
      "Wasn't found\n",
      "City\n",
      "Wasn't found\n",
      "City\n",
      "City\n",
      "City\n",
      "City\n",
      "City\n",
      "City\n",
      "City\n",
      "City\n",
      "City\n",
      "City\n",
      "City\n",
      "City\n",
      "City\n",
      "City\n",
      "City\n",
      "City\n",
      "City\n",
      "City\n",
      "City\n",
      "City\n",
      "City\n",
      "City\n",
      "City\n",
      "City\n",
      "City\n",
      "City\n",
      "Wasn't found\n",
      "City\n",
      "City\n",
      "City\n",
      "City\n",
      "City\n",
      "City\n",
      "City\n",
      "City\n",
      "Wasn't found\n",
      "City\n",
      "City\n",
      "City\n",
      "City\n",
      "City\n",
      "City\n",
      "City\n",
      "City\n",
      "City\n",
      "City\n",
      "City\n",
      "City\n",
      "City\n",
      "Wasn't found\n",
      "Wasn't found\n",
      "City\n",
      "City\n",
      "City\n",
      "City\n",
      "City\n",
      "City\n",
      "City\n",
      "Wasn't found\n",
      "Wasn't found\n",
      "City\n",
      "City\n",
      "City\n",
      "City\n",
      "City\n",
      "City\n",
      "Wasn't found\n",
      "City\n",
      "City\n",
      "City\n",
      "City\n",
      "City\n",
      "City\n",
      "City\n",
      "City\n",
      "City\n",
      "City\n",
      "City\n",
      "City\n",
      "City\n",
      "City\n",
      "City\n",
      "City\n",
      "City\n",
      "City\n",
      "City\n",
      "City\n",
      "City\n",
      "City\n",
      "City\n",
      "City\n",
      "City\n",
      "City\n",
      "City\n",
      "City\n",
      "City\n",
      "City\n",
      "City\n",
      "City\n",
      "City\n",
      "City\n",
      "City\n",
      "City\n",
      "City\n",
      "City\n",
      "City\n",
      "City\n",
      "City\n",
      "City\n",
      "City\n",
      "City\n",
      "City\n",
      "Wasn't found\n",
      "City\n",
      "Wasn't found\n",
      "City\n",
      "City\n",
      "Wasn't found\n",
      "City\n",
      "City\n",
      "City\n",
      "City\n",
      "City\n",
      "City\n",
      "City\n",
      "Wasn't found\n",
      "City\n",
      "Wasn't found\n",
      "City\n",
      "City\n",
      "City\n",
      "City\n",
      "City\n",
      "City\n",
      "City\n",
      "City\n",
      "Wasn't found\n",
      "City\n",
      "City\n",
      "City\n",
      "City\n",
      "City\n",
      "Wasn't found\n",
      "City\n",
      "City\n",
      "City\n",
      "City\n",
      "City\n",
      "City\n",
      "City\n",
      "City\n",
      "City\n",
      "City\n",
      "City\n",
      "Wasn't found\n",
      "City\n",
      "City\n",
      "City\n",
      "City\n",
      "City\n",
      "Wasn't found\n",
      "City\n",
      "City\n",
      "City\n",
      "City\n",
      "City\n",
      "City\n",
      "City\n",
      "City\n",
      "City\n",
      "City\n",
      "City\n",
      "Wasn't found\n",
      "City\n",
      "City\n",
      "City\n",
      "City\n",
      "City\n",
      "City\n",
      "City\n",
      "City\n",
      "City\n",
      "City\n",
      "City\n",
      "City\n",
      "City\n",
      "Wasn't found\n",
      "City\n",
      "City\n",
      "City\n",
      "City\n",
      "City\n",
      "City\n",
      "City\n",
      "City\n",
      "City\n",
      "Wasn't found\n",
      "City\n",
      "City\n",
      "City\n",
      "City\n",
      "Wasn't found\n",
      "City\n",
      "City\n",
      "City\n",
      "City\n",
      "Wasn't found\n",
      "City\n",
      "City\n",
      "City\n",
      "City\n",
      "City\n",
      "City\n",
      "City\n",
      "City\n",
      "Wasn't found\n",
      "City\n",
      "City\n",
      "City\n",
      "City\n",
      "City\n",
      "City\n",
      "City\n",
      "City\n",
      "City\n",
      "City\n",
      "City\n",
      "City\n",
      "City\n",
      "City\n",
      "City\n",
      "City\n",
      "City\n",
      "City\n",
      "City\n",
      "City\n",
      "City\n",
      "City\n",
      "City\n",
      "City\n",
      "City\n",
      "Wasn't found\n",
      "City\n",
      "City\n",
      "City\n",
      "City\n",
      "City\n",
      "Wasn't found\n",
      "City\n",
      "City\n",
      "City\n",
      "City\n",
      "City\n",
      "City\n",
      "City\n",
      "City\n",
      "City\n",
      "City\n",
      "City\n",
      "City\n",
      "City\n",
      "City\n",
      "City\n",
      "Wasn't found\n",
      "City\n",
      "Wasn't found\n",
      "City\n"
     ]
    }
   ],
   "source": [
    "citiesweather =[]\n",
    "url = \"https://api.openweathermap.org/data/2.5/weather?units=imperial&q=\"\n",
    "limit = 1\n",
    "for i in cities:\n",
    "    query_url = f\"{url}{i}&limit={limit}&appid={weather_api_key}\"\n",
    "    weather_response =requests.get(query_url)\n",
    "    weather_json = weather_response.json()\n",
    "    try: \n",
    "        weather_data ={\n",
    "        \"City\": weather_json[\"name\"],\n",
    "        \"Lat\" : weather_json[\"coord\"][\"lat\"],\n",
    "        \"Lng\" : weather_json[\"coord\"][\"lon\"],\n",
    "        \"Max Temp(f)\": weather_json[\"main\"][\"temp_max\"],\n",
    "        \"Humidity\": weather_json[\"main\"][\"humidity\"],\n",
    "        \"Cloudiness\": weather_json[\"clouds\"][\"all\"],\n",
    "        \"Wind Speed\": weather_json[\"wind\"][\"speed\"],\n",
    "        \"Country\" : weather_json[\"sys\"][\"country\"],\n",
    "        \"Date\": weather_json[\"dt\"]}\n",
    "        citiesweather.append(weather_data) \n",
    "        print(-----------------------------------)\n",
    "        print(f\"Processing Record{}of Set{} | {City}\"\n",
    "    except:\n",
    "        print(\"City not found. Skipping...\")\n",
    "# see gitlab starter code"
   ]
  },
  {
   "cell_type": "code",
   "execution_count": 10,
   "metadata": {},
   "outputs": [
    {
     "data": {
      "text/plain": [
       "City           578\n",
       "Lat            578\n",
       "Lng            578\n",
       "Max Temp(f)    578\n",
       "Humidity       578\n",
       "Cloudiness     578\n",
       "Wind Speed     578\n",
       "Country        578\n",
       "Date           578\n",
       "dtype: int64"
      ]
     },
     "execution_count": 10,
     "metadata": {},
     "output_type": "execute_result"
    }
   ],
   "source": [
    "weather_data =pd.DataFrame(citiesweather)\n",
    "weather_data.count()"
   ]
  },
  {
   "cell_type": "markdown",
   "metadata": {},
   "source": [
    "### Convert Raw Data to DataFrame\n",
    "* Export the city data into a .csv.\n",
    "* Display the DataFrame\n",
    "weather_data.to_csv(\"output_data/cities.csv\",encoding=\"utf-8\", index=True, header=True)\n",
    "weather_data.display()"
   ]
  },
  {
   "cell_type": "code",
   "execution_count": 11,
   "metadata": {
    "scrolled": true
   },
   "outputs": [
    {
     "name": "stdout",
     "output_type": "stream",
     "text": [
      "               City      Lat       Lng  Max Temp(f)  Humidity  Cloudiness  \\\n",
      "0        Butaritari   3.0707  172.7902        81.19        77          41   \n",
      "1           Rikitea -23.1203 -134.9692        72.12        74         100   \n",
      "2            Castro -24.7911  -50.0119        69.30        41           0   \n",
      "3              Atar  20.5169  -13.0499        98.67        30           8   \n",
      "4             Kapaa  22.0752 -159.3190        82.38        73          20   \n",
      "..              ...      ...       ...          ...       ...         ...   \n",
      "573        Takaungu  -3.6837   39.8566        75.69        85           0   \n",
      "574           Aksay  47.2600   39.8700        84.25        33           5   \n",
      "575        Ust-Maya  60.4167  134.5333        60.96        83          10   \n",
      "576       Vancouver  49.2497 -123.1193        86.99        59           0   \n",
      "577  Kulhudhuffushi   6.6221   73.0700        76.68        92         100   \n",
      "\n",
      "     Wind Speed Country        Date  \n",
      "0         15.23      KI  1659291959  \n",
      "1         18.63      PF  1659291960  \n",
      "2          6.20      BR  1659291907  \n",
      "3         13.15      MR  1659291961  \n",
      "4         12.66      US  1659291961  \n",
      "..          ...     ...         ...  \n",
      "573       13.98      KE  1659292222  \n",
      "574       14.00      RU  1659292222  \n",
      "575        3.67      RU  1659292222  \n",
      "576       10.00      CA  1659291945  \n",
      "577       29.55      MV  1659292223  \n",
      "\n",
      "[578 rows x 9 columns]\n"
     ]
    }
   ],
   "source": [
    "# Export the city data into a .csv.\n",
    "# Display the DataFrame \n",
    "weather_data.to_csv(\"output_data/cities.csv\",encoding=\"utf-8\", index=True, header=True) \n",
    "print(weather_data)"
   ]
  },
  {
   "cell_type": "code",
   "execution_count": null,
   "metadata": {},
   "outputs": [],
   "source": []
  },
  {
   "cell_type": "markdown",
   "metadata": {},
   "source": [
    "## Inspect the data and remove the cities where the humidity > 100%.\n",
    "----\n",
    "Skip this step if there are no cities that have humidity > 100%. "
   ]
  },
  {
   "cell_type": "code",
   "execution_count": 12,
   "metadata": {},
   "outputs": [
    {
     "data": {
      "text/plain": [
       "City           572\n",
       "Lat            572\n",
       "Lng            572\n",
       "Max Temp(f)    572\n",
       "Humidity       572\n",
       "Cloudiness     572\n",
       "Wind Speed     572\n",
       "Country        572\n",
       "Date           572\n",
       "dtype: int64"
      ]
     },
     "execution_count": 12,
     "metadata": {},
     "output_type": "execute_result"
    }
   ],
   "source": [
    "dryweather_data=weather_data[weather_data[\"Humidity\"] <100]\n",
    "dryweather_data.count()\n"
   ]
  },
  {
   "cell_type": "code",
   "execution_count": 13,
   "metadata": {},
   "outputs": [
    {
     "data": {
      "text/html": [
       "<div>\n",
       "<style scoped>\n",
       "    .dataframe tbody tr th:only-of-type {\n",
       "        vertical-align: middle;\n",
       "    }\n",
       "\n",
       "    .dataframe tbody tr th {\n",
       "        vertical-align: top;\n",
       "    }\n",
       "\n",
       "    .dataframe thead th {\n",
       "        text-align: right;\n",
       "    }\n",
       "</style>\n",
       "<table border=\"1\" class=\"dataframe\">\n",
       "  <thead>\n",
       "    <tr style=\"text-align: right;\">\n",
       "      <th></th>\n",
       "      <th>City</th>\n",
       "      <th>Lat</th>\n",
       "      <th>Lng</th>\n",
       "      <th>Max Temp(f)</th>\n",
       "      <th>Humidity</th>\n",
       "      <th>Cloudiness</th>\n",
       "      <th>Wind Speed</th>\n",
       "      <th>Country</th>\n",
       "      <th>Date</th>\n",
       "    </tr>\n",
       "  </thead>\n",
       "  <tbody>\n",
       "  </tbody>\n",
       "</table>\n",
       "</div>"
      ],
      "text/plain": [
       "Empty DataFrame\n",
       "Columns: [City, Lat, Lng, Max Temp(f), Humidity, Cloudiness, Wind Speed, Country, Date]\n",
       "Index: []"
      ]
     },
     "execution_count": 13,
     "metadata": {},
     "output_type": "execute_result"
    }
   ],
   "source": [
    "#  Get the indices of cities that have humidity over 100%.\n",
    "moistweather_data=weather_data[weather_data[\"Humidity\"]>100]\n",
    "moistweather_data.head()\n"
   ]
  },
  {
   "cell_type": "code",
   "execution_count": 14,
   "metadata": {},
   "outputs": [
    {
     "data": {
      "text/html": [
       "<div>\n",
       "<style scoped>\n",
       "    .dataframe tbody tr th:only-of-type {\n",
       "        vertical-align: middle;\n",
       "    }\n",
       "\n",
       "    .dataframe tbody tr th {\n",
       "        vertical-align: top;\n",
       "    }\n",
       "\n",
       "    .dataframe thead th {\n",
       "        text-align: right;\n",
       "    }\n",
       "</style>\n",
       "<table border=\"1\" class=\"dataframe\">\n",
       "  <thead>\n",
       "    <tr style=\"text-align: right;\">\n",
       "      <th></th>\n",
       "      <th>City</th>\n",
       "      <th>Lat</th>\n",
       "      <th>Lng</th>\n",
       "      <th>Max Temp(f)</th>\n",
       "      <th>Humidity</th>\n",
       "      <th>Cloudiness</th>\n",
       "      <th>Wind Speed</th>\n",
       "      <th>Country</th>\n",
       "      <th>Date</th>\n",
       "    </tr>\n",
       "  </thead>\n",
       "  <tbody>\n",
       "    <tr>\n",
       "      <th>0</th>\n",
       "      <td>Butaritari</td>\n",
       "      <td>3.0707</td>\n",
       "      <td>172.7902</td>\n",
       "      <td>81.19</td>\n",
       "      <td>77</td>\n",
       "      <td>41</td>\n",
       "      <td>15.23</td>\n",
       "      <td>KI</td>\n",
       "      <td>1659291959</td>\n",
       "    </tr>\n",
       "    <tr>\n",
       "      <th>1</th>\n",
       "      <td>Rikitea</td>\n",
       "      <td>-23.1203</td>\n",
       "      <td>-134.9692</td>\n",
       "      <td>72.12</td>\n",
       "      <td>74</td>\n",
       "      <td>100</td>\n",
       "      <td>18.63</td>\n",
       "      <td>PF</td>\n",
       "      <td>1659291960</td>\n",
       "    </tr>\n",
       "    <tr>\n",
       "      <th>2</th>\n",
       "      <td>Castro</td>\n",
       "      <td>-24.7911</td>\n",
       "      <td>-50.0119</td>\n",
       "      <td>69.30</td>\n",
       "      <td>41</td>\n",
       "      <td>0</td>\n",
       "      <td>6.20</td>\n",
       "      <td>BR</td>\n",
       "      <td>1659291907</td>\n",
       "    </tr>\n",
       "    <tr>\n",
       "      <th>3</th>\n",
       "      <td>Atar</td>\n",
       "      <td>20.5169</td>\n",
       "      <td>-13.0499</td>\n",
       "      <td>98.67</td>\n",
       "      <td>30</td>\n",
       "      <td>8</td>\n",
       "      <td>13.15</td>\n",
       "      <td>MR</td>\n",
       "      <td>1659291961</td>\n",
       "    </tr>\n",
       "    <tr>\n",
       "      <th>4</th>\n",
       "      <td>Kapaa</td>\n",
       "      <td>22.0752</td>\n",
       "      <td>-159.3190</td>\n",
       "      <td>82.38</td>\n",
       "      <td>73</td>\n",
       "      <td>20</td>\n",
       "      <td>12.66</td>\n",
       "      <td>US</td>\n",
       "      <td>1659291961</td>\n",
       "    </tr>\n",
       "    <tr>\n",
       "      <th>...</th>\n",
       "      <td>...</td>\n",
       "      <td>...</td>\n",
       "      <td>...</td>\n",
       "      <td>...</td>\n",
       "      <td>...</td>\n",
       "      <td>...</td>\n",
       "      <td>...</td>\n",
       "      <td>...</td>\n",
       "      <td>...</td>\n",
       "    </tr>\n",
       "    <tr>\n",
       "      <th>573</th>\n",
       "      <td>Takaungu</td>\n",
       "      <td>-3.6837</td>\n",
       "      <td>39.8566</td>\n",
       "      <td>75.69</td>\n",
       "      <td>85</td>\n",
       "      <td>0</td>\n",
       "      <td>13.98</td>\n",
       "      <td>KE</td>\n",
       "      <td>1659292222</td>\n",
       "    </tr>\n",
       "    <tr>\n",
       "      <th>574</th>\n",
       "      <td>Aksay</td>\n",
       "      <td>47.2600</td>\n",
       "      <td>39.8700</td>\n",
       "      <td>84.25</td>\n",
       "      <td>33</td>\n",
       "      <td>5</td>\n",
       "      <td>14.00</td>\n",
       "      <td>RU</td>\n",
       "      <td>1659292222</td>\n",
       "    </tr>\n",
       "    <tr>\n",
       "      <th>575</th>\n",
       "      <td>Ust-Maya</td>\n",
       "      <td>60.4167</td>\n",
       "      <td>134.5333</td>\n",
       "      <td>60.96</td>\n",
       "      <td>83</td>\n",
       "      <td>10</td>\n",
       "      <td>3.67</td>\n",
       "      <td>RU</td>\n",
       "      <td>1659292222</td>\n",
       "    </tr>\n",
       "    <tr>\n",
       "      <th>576</th>\n",
       "      <td>Vancouver</td>\n",
       "      <td>49.2497</td>\n",
       "      <td>-123.1193</td>\n",
       "      <td>86.99</td>\n",
       "      <td>59</td>\n",
       "      <td>0</td>\n",
       "      <td>10.00</td>\n",
       "      <td>CA</td>\n",
       "      <td>1659291945</td>\n",
       "    </tr>\n",
       "    <tr>\n",
       "      <th>577</th>\n",
       "      <td>Kulhudhuffushi</td>\n",
       "      <td>6.6221</td>\n",
       "      <td>73.0700</td>\n",
       "      <td>76.68</td>\n",
       "      <td>92</td>\n",
       "      <td>100</td>\n",
       "      <td>29.55</td>\n",
       "      <td>MV</td>\n",
       "      <td>1659292223</td>\n",
       "    </tr>\n",
       "  </tbody>\n",
       "</table>\n",
       "<p>572 rows × 9 columns</p>\n",
       "</div>"
      ],
      "text/plain": [
       "               City      Lat       Lng  Max Temp(f)  Humidity  Cloudiness  \\\n",
       "0        Butaritari   3.0707  172.7902        81.19        77          41   \n",
       "1           Rikitea -23.1203 -134.9692        72.12        74         100   \n",
       "2            Castro -24.7911  -50.0119        69.30        41           0   \n",
       "3              Atar  20.5169  -13.0499        98.67        30           8   \n",
       "4             Kapaa  22.0752 -159.3190        82.38        73          20   \n",
       "..              ...      ...       ...          ...       ...         ...   \n",
       "573        Takaungu  -3.6837   39.8566        75.69        85           0   \n",
       "574           Aksay  47.2600   39.8700        84.25        33           5   \n",
       "575        Ust-Maya  60.4167  134.5333        60.96        83          10   \n",
       "576       Vancouver  49.2497 -123.1193        86.99        59           0   \n",
       "577  Kulhudhuffushi   6.6221   73.0700        76.68        92         100   \n",
       "\n",
       "     Wind Speed Country        Date  \n",
       "0         15.23      KI  1659291959  \n",
       "1         18.63      PF  1659291960  \n",
       "2          6.20      BR  1659291907  \n",
       "3         13.15      MR  1659291961  \n",
       "4         12.66      US  1659291961  \n",
       "..          ...     ...         ...  \n",
       "573       13.98      KE  1659292222  \n",
       "574       14.00      RU  1659292222  \n",
       "575        3.67      RU  1659292222  \n",
       "576       10.00      CA  1659291945  \n",
       "577       29.55      MV  1659292223  \n",
       "\n",
       "[572 rows x 9 columns]"
      ]
     },
     "metadata": {},
     "output_type": "display_data"
    }
   ],
   "source": [
    "# Make a new DataFrame equal to the city data to drop all humidity outliers by index.\n",
    "\n",
    "# Passing \"inplace=False\" will make a copy of the city_data DataFrame, which we call \"clean_city_data\".\n",
    "clean_city_data=dryweather_data.rename(mapper=None, index=str, columns=None, axis=None, copy=True, inplace=False, level=None)\n",
    "display(clean_city_data)\n"
   ]
  },
  {
   "cell_type": "code",
   "execution_count": null,
   "metadata": {},
   "outputs": [],
   "source": [
    "\n"
   ]
  },
  {
   "cell_type": "markdown",
   "metadata": {},
   "source": [
    "## Plotting the Data\n",
    "* Use proper labeling of the plots using plot titles (including date of analysis) and axes labels.\n",
    "* Save the plotted figures as .pngs."
   ]
  },
  {
   "cell_type": "markdown",
   "metadata": {},
   "source": [
    "## Latitude vs. Temperature Plot"
   ]
  },
  {
   "cell_type": "code",
   "execution_count": 15,
   "metadata": {},
   "outputs": [],
   "source": [
    "# MODEL CODE FROM ASK BCS\n",
    "# plt.scatter(lats,\n",
    "#            max_temps,\n",
    "#            edgecolor=\"black\", linewidths=1, marker=\"o\",\n",
    "#            alpha=0.8, label=\"Cities\")\n",
    "# # Incorporate the other graph properties\n",
    "# plt.title(\"City Latitude vs. Max Temperature (%s)\" % time.strftime(\"%x\"))\n",
    "# plt.ylabel(\"Max Temperature (F)\")\n",
    "# plt.xlabel(\"Latitude\")\n",
    "# plt.grid(True)\n",
    "# # Save the figure\n",
    "# plt.savefig(\"output_data/Fig1.png\")\n",
    "# # Show plot\n",
    "# plt.show()\n",
    "\n",
    "# Also please try to have\n",
    "# % matplotlib inline"
   ]
  },
  {
   "cell_type": "code",
   "execution_count": 38,
   "metadata": {
    "scrolled": true
   },
   "outputs": [
    {
     "data": {
      "image/png": "[encoded data removed]",
      "text/plain": [
       "<Figure size 432x288 with 1 Axes>"
      ]
     },
     "metadata": {
      "needs_background": "light"
     },
     "output_type": "display_data"
    }
   ],
   "source": [
    "# # make the data\n",
    "x = clean_city_data[\"Lat\"]\n",
    "y = clean_city_data[\"Max Temp(f)\"]\n",
    "\n",
    "# # size and color:\n",
    "# sizes = np.random.uniform(15, 80, len(x))\n",
    "# colors = np.random.uniform(15, 80, len(x))\n",
    "\n",
    "# # plot\n",
    "plt.scatter(x, y, vmin=0, vmax=100)\n",
    "# plt.scatter(x,\n",
    "#            y,\n",
    "#            edgecolor=\"black\",\n",
    "#            linewidths=1,\n",
    "#            marker=\"o\",\n",
    "#            alpha=0.8,\n",
    "#            label=\"Cities\")\n",
    "# plt.rcParams[\"figure.figsize\"] = (70,6)\n",
    "\n",
    "# plt.scatter(x,\n",
    "#             y, \n",
    "#             edgecolor=\"black\",\n",
    "#             s=sizes, \n",
    "#             c=colors, \n",
    "#            )\n",
    "\n",
    "# Create a title, x label, and y label for our chart\n",
    "# fig=plt.figure()\n",
    "# fig.set_size_inches(5,5)\n",
    "# plt.figure(figsize=(20,40)\n",
    "plt.title(\"Latitude vs. Temperature\")\n",
    "plt.xlabel(\"City Latitude\")\n",
    "plt.ylabel(\"Max Temperature (f)\")\n",
    "plt.grid(True)\n",
    "# plt.savefig(\"output_data/Fig1.png\")\n",
    "plt.show()"
   ]
  },
  {
   "cell_type": "markdown",
   "metadata": {},
   "source": [
    "## Latitude vs. Humidity Plot"
   ]
  },
  {
   "cell_type": "code",
   "execution_count": 17,
   "metadata": {},
   "outputs": [
    {
     "data": {
      "image/png": "[encoded data removed]",
      "text/plain": [
       "<Figure size 432x288 with 1 Axes>"
      ]
     },
     "metadata": {
      "needs_background": "light"
     },
     "output_type": "display_data"
    }
   ],
   "source": [
    "\n",
    "\n",
    "# # make the data\n",
    "a = clean_city_data[\"Lat\"]\n",
    "b = clean_city_data[\"Humidity\"]\n",
    "\n",
    "# # size and color:\n",
    "# sizes = np.random.uniform(15, 80, len(x))\n",
    "# colors = np.random.uniform(15, 80, len(x))\n",
    "# plt.rcParams[\"figure.figsize\"] = (70,6)\n",
    "# # plot\n",
    "\n",
    "plt.scatter(a, b, vmin=0, vmax=100)\n",
    "\n",
    "# set(xlim=(-60, 80), xticks=np.arange(10, 80),\n",
    "#        ylim=(0, 100), yticks=np.arange(1, 100))\n",
    "# Create a title, x label, and y label for our chart\n",
    "plt.title(\"Latitude vs. Humidity\")\n",
    "plt.xlabel(\"Latitude\")\n",
    "plt.ylabel(\"Humidity\")\n",
    "\n",
    "plt.show()"
   ]
  },
  {
   "cell_type": "markdown",
   "metadata": {},
   "source": [
    "## Latitude vs. Cloudiness Plot"
   ]
  },
  {
   "cell_type": "code",
   "execution_count": 18,
   "metadata": {},
   "outputs": [
    {
     "data": {
      "image/png": "[encoded data removed]",
      "text/plain": [
       "<Figure size 432x288 with 1 Axes>"
      ]
     },
     "metadata": {
      "needs_background": "light"
     },
     "output_type": "display_data"
    }
   ],
   "source": [
    "\n",
    "# # make the data\n",
    "c = clean_city_data[\"Lat\"]\n",
    "d = clean_city_data[\"Cloudiness\"]\n",
    "\n",
    "# # size and color:\n",
    "sizes = np.random.uniform(15, 80, len(x))\n",
    "colors = np.random.uniform(15, 80, len(x))\n",
    "\n",
    "# # plot\n",
    "fig, ax = plt.subplots()\n",
    "\n",
    "ax.scatter(c, d, vmin=0, vmax=100)\n",
    "\n",
    "# ax.set(xlim=(-60, 80), xticks=np.arange(10, 80),\n",
    "#        ylim=(0, 100), yticks=np.arange(1, 100))\n",
    "# Create a title, x label, and y label for our chart\n",
    "plt.title(\"Latitude vs. Cloudiness\")\n",
    "plt.xlabel(\"Latitude\")\n",
    "plt.ylabel(\"Cloudiness\")\n",
    "\n",
    "plt.show()"
   ]
  },
  {
   "cell_type": "markdown",
   "metadata": {},
   "source": [
    "## Latitude vs. Wind Speed Plot"
   ]
  },
  {
   "cell_type": "code",
   "execution_count": 19,
   "metadata": {},
   "outputs": [
    {
     "data": {
      "image/png": "[encoded data removed]",
      "text/plain": [
       "<Figure size 432x288 with 1 Axes>"
      ]
     },
     "metadata": {
      "needs_background": "light"
     },
     "output_type": "display_data"
    }
   ],
   "source": [
    "# # make the data\n",
    "x = clean_city_data[\"Lat\"]\n",
    "y = clean_city_data[\"Wind Speed\"]\n",
    "\n",
    "# # size and color:\n",
    "sizes = np.random.uniform(15, 80, len(x))\n",
    "colors = np.random.uniform(15, 80, len(x))\n",
    "\n",
    "# # plot\n",
    "fig, ax = plt.subplots()\n",
    "\n",
    "ax.scatter(x, y, vmin=0, vmax=100)\n",
    "\n",
    "# ax.set(xlim=(-60, 80), xticks=np.arange(10, 80),\n",
    "#        ylim=(0, 50), yticks=np.arange(5, 50))\n",
    "# Create a title, x label, and y label for our chart\n",
    "plt.title(\"Latitude vs. Windspeed\")\n",
    "plt.xlabel(\"Latitude\")\n",
    "plt.ylabel(\"Windspeed(mph)\")\n",
    "\n",
    "plt.show()"
   ]
  },
  {
   "cell_type": "markdown",
   "metadata": {},
   "source": [
    "## Linear Regression\n"
   ]
  },
  {
   "cell_type": "code",
   "execution_count": 20,
   "metadata": {},
   "outputs": [],
   "source": [
    "x=clean_city_data[\"Lat\"]\n",
    "# filter into =>1 and above = Northern Hemisphere\n",
    "NHemi=clean_city_data.loc[clean_city_data[\"Lat\"] >= 0]\n",
    "#filter into =<1 and below = Southern Hemisphere\n",
    "SHemi=clean_city_data.loc[clean_city_data[\"Lat\"] <= 0]\n",
    "# NHemi.count()\n",
    "# 409\n",
    "# SHemi.count()\n",
    "# 184"
   ]
  },
  {
   "cell_type": "code",
   "execution_count": 21,
   "metadata": {},
   "outputs": [
    {
     "data": {
      "text/plain": [
       "0       3.0707\n",
       "1     -23.1203\n",
       "2     -24.7911\n",
       "3      20.5169\n",
       "4      22.0752\n",
       "        ...   \n",
       "573    -3.6837\n",
       "574    47.2600\n",
       "575    60.4167\n",
       "576    49.2497\n",
       "577     6.6221\n",
       "Name: Lat, Length: 572, dtype: float64"
      ]
     },
     "execution_count": 21,
     "metadata": {},
     "output_type": "execute_result"
    }
   ],
   "source": [
    "x"
   ]
  },
  {
   "cell_type": "code",
   "execution_count": 22,
   "metadata": {},
   "outputs": [
    {
     "data": {
      "text/plain": [
       "0      15.23\n",
       "1      18.63\n",
       "2       6.20\n",
       "3      13.15\n",
       "4      12.66\n",
       "       ...  \n",
       "573    13.98\n",
       "574    14.00\n",
       "575     3.67\n",
       "576    10.00\n",
       "577    29.55\n",
       "Name: Wind Speed, Length: 572, dtype: float64"
      ]
     },
     "execution_count": 22,
     "metadata": {},
     "output_type": "execute_result"
    }
   ],
   "source": [
    "y"
   ]
  },
  {
   "cell_type": "markdown",
   "metadata": {},
   "source": [
    "####  Northern Hemisphere - Max Temp vs. Latitude Linear Regression"
   ]
  },
  {
   "cell_type": "code",
   "execution_count": 40,
   "metadata": {},
   "outputs": [
    {
     "name": "stdout",
     "output_type": "stream",
     "text": [
      "The r-squared is: 0.48370770864687984\n"
     ]
    },
    {
     "data": {
      "image/png": "[encoded data removed]",
      "text/plain": [
       "<Figure size 432x288 with 1 Axes>"
      ]
     },
     "metadata": {
      "needs_background": "light"
     },
     "output_type": "display_data"
    }
   ],
   "source": [
    "# # make the data\n",
    "x = NHemi[\"Lat\"]\n",
    "y = NHemi[\"Max Temp(f)\"]\n",
    "\n",
    "(slope, intercept, rvalue, pvalue, stderr) = linregress(x, y)\n",
    "regress_values = x * slope + intercept\n",
    "line_eq = \"y = \" + str(round(slope,2)) + \"x + \" + str(round(intercept,2))\n",
    "\n",
    "plt.scatter(x, y, vmin=0, vmax=100)\n",
    "plt.plot(x,regress_values,\"r-\")\n",
    "plt.annotate(line_eq,(0,50),fontsize=15,color=\"red\")\n",
    "\n",
    "# Create a title, x label, and y label for our chart\n",
    "plt.title(\"Northern Hemisphere Latitude vs. Max Tempurature(f)\")\n",
    "plt.xlabel(\"Latitude\")\n",
    "plt.ylabel(\"Max Tempurature(f)\")\n",
    "print(f\"The r-squared is: {rvalue**2}\")\n",
    "plt.show()"
   ]
  },
  {
   "cell_type": "code",
   "execution_count": 41,
   "metadata": {},
   "outputs": [],
   "source": [
    "# # Plot the different factors in a scatter plot\n",
    "# x_values = clean_city_data[\"Lat\"]\n",
    "# y_values = clean_city_data[\"Max Tempurature(f)\"]\n",
    "# (slope, intercept, rvalue, pvalue, stderr) = linregress(x_values, y_values)\n",
    "# regress_values = x_values * slope + intercept\n",
    "# line_eq = \"y = \" + str(round(slope,2)) + \"x + \" + str(round(intercept,2))\n",
    "# plt.scatter(x_values,y_values)\n",
    "# plt.plot(x_values,regress_values,\"r-\")\n",
    "# plt.annotate(line_eq,(0,50),fontsize=15,color=\"red\")\n",
    "# plt.xlabel('Normalized Blood Pressure')\n",
    "# plt.ylabel('1Y_Disease_Progress')\n",
    "# print(f\"The r-squared is: {rvalue**2}\")\n",
    "# plt.show()"
   ]
  },
  {
   "cell_type": "markdown",
   "metadata": {},
   "source": [
    "####  Southern Hemisphere - Max Temp vs. Latitude Linear Regression"
   ]
  },
  {
   "cell_type": "code",
   "execution_count": 50,
   "metadata": {},
   "outputs": [
    {
     "name": "stdout",
     "output_type": "stream",
     "text": [
      "The r-value is: 0.8088568204104107\n"
     ]
    },
    {
     "data": {
      "image/png": "[encoded data removed]",
      "text/plain": [
       "<Figure size 432x288 with 1 Axes>"
      ]
     },
     "metadata": {
      "needs_background": "light"
     },
     "output_type": "display_data"
    }
   ],
   "source": [
    "# # make the data\n",
    "x = SHemi[\"Lat\"]\n",
    "y = SHemi[\"Max Temp(f)\"]\n",
    "\n",
    "(slope, intercept, rvalue, pvalue, stderr) = linregress(x, y)\n",
    "regress_values = x * slope + intercept\n",
    "line_eq = \"y = \" + str(round(slope,2)) + \"x + \" + str(round(intercept,2))\n",
    "\n",
    "plt.scatter(x, y, vmin=0, vmax=100)\n",
    "plt.plot(x,regress_values,\"r-\")\n",
    "plt.annotate(line_eq,(0,50),fontsize=15,color=\"red\")\n",
    "# ax.set(xlim=(0, 80), xticks=np.arange(10, 80),\n",
    "#        ylim=(0, 100), yticks=np.arange(1, 100))\n",
    "# Create a title, x label, and y label for our chart\n",
    "plt.title(\"Southern Hemisphere Latitude vs. Max Tempurature(f)\")\n",
    "plt.xlabel(\"Latitude\")\n",
    "plt.ylabel(\"Max Tempurature(f)\")\n",
    "print(f\"The r-value is: {rvalue}\")\n",
    "plt.show()"
   ]
  },
  {
   "cell_type": "markdown",
   "metadata": {},
   "source": [
    "####  Northern Hemisphere - Humidity (%) vs. Latitude Linear Regression"
   ]
  },
  {
   "cell_type": "code",
   "execution_count": 49,
   "metadata": {},
   "outputs": [
    {
     "name": "stdout",
     "output_type": "stream",
     "text": [
      "The r-value is: 0.04641744498798097\n"
     ]
    },
    {
     "data": {
      "image/png": "[encoded data removed]",
      "text/plain": [
       "<Figure size 432x288 with 1 Axes>"
      ]
     },
     "metadata": {
      "needs_background": "light"
     },
     "output_type": "display_data"
    }
   ],
   "source": [
    "# # make the data\n",
    "x = NHemi[\"Lat\"]\n",
    "y = NHemi[\"Humidity\"]\n",
    "\n",
    "(slope, intercept, rvalue, pvalue, stderr) = linregress(x, y)\n",
    "regress_values = x * slope + intercept\n",
    "line_eq = \"y = \" + str(round(slope,2)) + \"x + \" + str(round(intercept,2))\n",
    "\n",
    "plt.scatter(x, y, vmin=0, vmax=100)\n",
    "plt.plot(x,regress_values,\"r-\")\n",
    "plt.annotate(line_eq,(0,50),fontsize=15,color=\"red\")\n",
    "# ax.set(xlim=(0, 80), xticks=np.arange(10, 80),\n",
    "#        ylim=(0, 100), yticks=np.arange(1, 100))\n",
    "# Create a title, x label, and y label for our chart\n",
    "plt.title(\"Northern Hemisphere Latitude vs. Humidity\")\n",
    "plt.xlabel(\"Latitude\")\n",
    "plt.ylabel(\"Humidity\")\n",
    "print(f\"The r-value is: {rvalue}\")\n",
    "plt.show()"
   ]
  },
  {
   "cell_type": "markdown",
   "metadata": {},
   "source": [
    "####  Southern Hemisphere - Humidity (%) vs. Latitude Linear Regression"
   ]
  },
  {
   "cell_type": "code",
   "execution_count": 57,
   "metadata": {},
   "outputs": [
    {
     "name": "stdout",
     "output_type": "stream",
     "text": [
      "The r-value is: -0.05494781977411213\n"
     ]
    },
    {
     "data": {
      "image/png": "[encoded data removed]",
      "text/plain": [
       "<Figure size 432x288 with 1 Axes>"
      ]
     },
     "metadata": {
      "needs_background": "light"
     },
     "output_type": "display_data"
    }
   ],
   "source": [
    "# # make the data\n",
    "x = SHemi[\"Lat\"]\n",
    "y = SHemi[\"Humidity\"]\n",
    "\n",
    "(slope, intercept, rvalue, pvalue, stderr) = linregress(x, y)\n",
    "regress_values = x * slope + intercept\n",
    "line_eq = \"y = \" + str(round(slope,2)) + \"x + \" + str(round(intercept,2))\n",
    "\n",
    "plt.scatter(x, y, vmin=0, vmax=100)\n",
    "plt.plot(x,regress_values,\"r-\")\n",
    "plt.annotate(line_eq,(0,50),fontsize=15,color=\"red\")\n",
    "# ax.set(xlim=(0, 80), xticks=np.arange(10, 80),\n",
    "#        ylim=(0, 100), yticks=np.arange(1, 100))\n",
    "# Create a title, x label, and y label for our chart\n",
    "plt.title(\"Southern Hemisphere Latitude vs. Humidity\")\n",
    "plt.xlabel(\"Latitude\")\n",
    "plt.ylabel(\"Humidity\")\n",
    "print(f\"The r-value is: {rvalue}\")\n",
    "plt.show()"
   ]
  },
  {
   "cell_type": "markdown",
   "metadata": {},
   "source": [
    "####  Northern Hemisphere - Cloudiness (%) vs. Latitude Linear Regression"
   ]
  },
  {
   "cell_type": "code",
   "execution_count": 53,
   "metadata": {},
   "outputs": [
    {
     "name": "stdout",
     "output_type": "stream",
     "text": [
      "The r-value is: -0.04002621224801207\n"
     ]
    },
    {
     "data": {
      "image/png": "[encoded data removed]",
      "text/plain": [
       "<Figure size 432x288 with 1 Axes>"
      ]
     },
     "metadata": {
      "needs_background": "light"
     },
     "output_type": "display_data"
    }
   ],
   "source": [
    "# # make the data\n",
    "x = NHemi[\"Lat\"]\n",
    "y = NHemi[\"Cloudiness\"]\n",
    "\n",
    "(slope, intercept, rvalue, pvalue, stderr) = linregress(x, y)\n",
    "regress_values = x * slope + intercept\n",
    "line_eq = \"y = \" + str(round(slope,2)) + \"x + \" + str(round(intercept,2))\n",
    "\n",
    "plt.scatter(x, y, vmin=0, vmax=100)\n",
    "plt.plot(x,regress_values,\"r-\")\n",
    "plt.annotate(line_eq,(0,50),fontsize=15,color=\"red\")\n",
    "\n",
    "# Create a title, x label, and y label for our chart\n",
    "plt.title(\"Northern Hemisphere Latitude vs. Cloudiness\")\n",
    "plt.xlabel(\"Latitude\")\n",
    "plt.ylabel(\"Cloudiness\")\n",
    "print(f\"The r-value is: {rvalue}\")\n",
    "plt.show()"
   ]
  },
  {
   "cell_type": "markdown",
   "metadata": {},
   "source": [
    "####  Southern Hemisphere - Cloudiness (%) vs. Latitude Linear Regression"
   ]
  },
  {
   "cell_type": "code",
   "execution_count": 54,
   "metadata": {},
   "outputs": [
    {
     "name": "stdout",
     "output_type": "stream",
     "text": [
      "The r-value is: 0.09769211613775497\n"
     ]
    },
    {
     "data": {
      "image/png": "[encoded data removed]",
      "text/plain": [
       "<Figure size 432x288 with 1 Axes>"
      ]
     },
     "metadata": {
      "needs_background": "light"
     },
     "output_type": "display_data"
    }
   ],
   "source": [
    "# # make the data\n",
    "x = SHemi[\"Lat\"]\n",
    "y = SHemi[\"Cloudiness\"]\n",
    "\n",
    "(slope, intercept, rvalue, pvalue, stderr) = linregress(x, y)\n",
    "regress_values = x * slope + intercept\n",
    "line_eq = \"y = \" + str(round(slope,2)) + \"x + \" + str(round(intercept,2))\n",
    "\n",
    "plt.scatter(x, y, vmin=0, vmax=100)\n",
    "plt.plot(x,regress_values,\"r-\")\n",
    "plt.annotate(line_eq,(0,50),fontsize=15,color=\"red\")\n",
    "\n",
    "# Create a title, x label, and y label for our chart\n",
    "plt.title(\"Northern Hemisphere Latitude vs. Cloudiness\")\n",
    "plt.xlabel(\"Latitude\")\n",
    "plt.ylabel(\"Cloudiness\")\n",
    "print(f\"The r-value is: {rvalue}\")\n",
    "plt.show()"
   ]
  },
  {
   "cell_type": "markdown",
   "metadata": {},
   "source": [
    "####  Northern Hemisphere - Wind Speed (mph) vs. Latitude Linear Regression"
   ]
  },
  {
   "cell_type": "code",
   "execution_count": 55,
   "metadata": {},
   "outputs": [
    {
     "name": "stdout",
     "output_type": "stream",
     "text": [
      "The r-value is: -0.08463377689996189\n"
     ]
    },
    {
     "data": {
      "image/png": "[encoded data removed]",
      "text/plain": [
       "<Figure size 432x288 with 1 Axes>"
      ]
     },
     "metadata": {
      "needs_background": "light"
     },
     "output_type": "display_data"
    }
   ],
   "source": [
    "# # make the data\n",
    "x = NHemi[\"Lat\"]\n",
    "y = NHemi[\"Wind Speed\"]\n",
    "\n",
    "(slope, intercept, rvalue, pvalue, stderr) = linregress(x, y)\n",
    "regress_values = x * slope + intercept\n",
    "line_eq = \"y = \" + str(round(slope,2)) + \"x + \" + str(round(intercept,2))\n",
    "\n",
    "plt.scatter(x, y, vmin=0, vmax=100)\n",
    "plt.plot(x,regress_values,\"r-\")\n",
    "plt.annotate(line_eq,(0,50),fontsize=15,color=\"red\")\n",
    "\n",
    "# Create a title, x label, and y label for our chart\n",
    "plt.title(\"Northern Hemisphere Latitude vs. Wind Speed\")\n",
    "plt.xlabel(\"Latitude\")\n",
    "plt.ylabel(\"Wind Speed\")\n",
    "print(f\"The r-value is: {rvalue}\")\n",
    "plt.show()"
   ]
  },
  {
   "cell_type": "markdown",
   "metadata": {},
   "source": [
    "####  Southern Hemisphere - Wind Speed (mph) vs. Latitude Linear Regression"
   ]
  },
  {
   "cell_type": "code",
   "execution_count": 56,
   "metadata": {},
   "outputs": [
    {
     "name": "stdout",
     "output_type": "stream",
     "text": [
      "The r-value is: -0.036748980246834144\n"
     ]
    },
    {
     "data": {
      "image/png": "[encoded data removed]",
      "text/plain": [
       "<Figure size 432x288 with 1 Axes>"
      ]
     },
     "metadata": {
      "needs_background": "light"
     },
     "output_type": "display_data"
    }
   ],
   "source": [
    "# # make the data\n",
    "x = SHemi[\"Lat\"]\n",
    "y = SHemi[\"Wind Speed\"]\n",
    "\n",
    "(slope, intercept, rvalue, pvalue, stderr) = linregress(x, y)\n",
    "regress_values = x * slope + intercept\n",
    "line_eq = \"y = \" + str(round(slope,2)) + \"x + \" + str(round(intercept,2))\n",
    "\n",
    "plt.scatter(x, y, vmin=0, vmax=100)\n",
    "plt.plot(x,regress_values,\"r-\")\n",
    "plt.annotate(line_eq,(0,50),fontsize=15,color=\"red\")\n",
    "\n",
    "# Create a title, x label, and y label for our chart\n",
    "plt.title(\"Northern Hemisphere Latitude vs. Wind Speed\")\n",
    "plt.xlabel(\"Latitude\")\n",
    "plt.ylabel(\"Wind Speed\")\n",
    "print(f\"The r-value is: {rvalue}\")\n",
    "plt.show()"
   ]
  },
  {
   "cell_type": "code",
   "execution_count": null,
   "metadata": {},
   "outputs": [],
   "source": []
  }
 ],
 "metadata": {
  "anaconda-cloud": {},
  "kernel_info": {
   "name": "python3"
  },
  "kernelspec": {
   "display_name": "Python 3 (ipykernel)",
   "language": "python",
   "name": "python3"
  },
  "language_info": {
   "codemirror_mode": {
    "name": "ipython",
    "version": 3
   },
   "file_extension": ".py",
   "mimetype": "text/x-python",
   "name": "python",
   "nbconvert_exporter": "python",
   "pygments_lexer": "ipython3",
   "version": "3.9.12"
  },
  "latex_envs": {
   "LaTeX_envs_menu_present": true,
   "autoclose": false,
   "autocomplete": true,
   "bibliofile": "biblio.bib",
   "cite_by": "apalike",
   "current_citInitial": 1,
   "eqLabelWithNumbers": true,
   "eqNumInitial": 1,
   "hotkeys": {
    "equation": "Ctrl-E",
    "itemize": "Ctrl-I"
   },
   "labels_anchors": false,
   "latex_user_defs": false,
   "report_style_numbering": false,
   "user_envs_cfg": false
  },
  "nteract": {
   "version": "0.12.3"
  }
 },
 "nbformat": 4,
 "nbformat_minor": 2
}
