{
 "cells": [
  {
   "cell_type": "markdown",
   "metadata": {},
   "source": [
    "# VacationPy\n",
    "----\n",
    "\n",
    "#### Note\n",
    "* Keep an eye on your API usage. Use https://developers.google.com/maps/reporting/gmp-reporting as reference for how to monitor your usage and billing.\n",
    "\n",
    "* Instructions have been included for each segment. You do not have to follow them exactly, but they are included to help you think through the steps."
   ]
  },
  {
   "cell_type": "code",
   "execution_count": 1,
   "metadata": {},
   "outputs": [],
   "source": [
    "# Dependencies and Setup\n",
    "import matplotlib.pyplot as plt\n",
    "import pandas as pd\n",
    "import numpy as np\n",
    "import requests\n",
    "import gmaps\n",
    "import os\n",
    "\n",
    "# Import API key\n",
    "from api_keys import g_key"
   ]
  },
  {
   "cell_type": "markdown",
   "metadata": {},
   "source": [
    "### Store Part I results into DataFrame\n",
    "* Load the csv exported in Part I to a DataFrame"
   ]
  },
  {
   "cell_type": "code",
   "execution_count": 2,
   "metadata": {},
   "outputs": [
    {
     "name": "stdout",
     "output_type": "stream",
     "text": [
      "     Unnamed: 0        City      Lat       Lng  Max Temp(f)  Humidity  \\\n",
      "0             0      Hobart -42.8794  147.3294        49.86        76   \n",
      "1             1   Taoudenni  22.6783   -3.9836       111.88        11   \n",
      "2             2  Codrington -38.2667  141.9667        44.98        93   \n",
      "3             3      Cairns -16.9167  145.7667        69.75        88   \n",
      "4             4    Khatanga  71.9667  102.5000        44.78        73   \n",
      "..          ...         ...      ...       ...          ...       ...   \n",
      "262         262       Jilib   0.4883   42.7854        74.35        82   \n",
      "263         263       Basco  20.4487  121.9702        83.32        79   \n",
      "264         264        Hofn  64.2539  -15.2082        54.63        56   \n",
      "265         265    Katsuura  35.1333  140.3000        79.99        90   \n",
      "266         266      Safaga  26.7292   33.9365        89.74        38   \n",
      "\n",
      "     Cloudiness  Wind Speed Country        Date  \n",
      "0            98       12.66      AU  1659287428  \n",
      "1            61        6.33      ML  1659287706  \n",
      "2            78       12.64      AU  1659287707  \n",
      "3           100        6.91      AU  1659287707  \n",
      "4            99        9.89      RU  1659287708  \n",
      "..          ...         ...     ...         ...  \n",
      "262          28        8.93      SO  1659287810  \n",
      "263         100       10.54      PH  1659287811  \n",
      "264         100        7.45      IS  1659287811  \n",
      "265          86       12.53      JP  1659287811  \n",
      "266          12        7.70      EG  1659287812  \n",
      "\n",
      "[267 rows x 10 columns]\n"
     ]
    }
   ],
   "source": [
    "vacaweather_df=pd.read_csv (r\"output_data/cities.csv\")\n",
    "print(vacaweather_df)"
   ]
  },
  {
   "cell_type": "markdown",
   "metadata": {},
   "source": [
    "### Humidity Heatmap\n",
    "* Configure gmaps.\n",
    "* Use the Lat and Lng as locations and Humidity as the weight.\n",
    "* Add Heatmap layer to map."
   ]
  },
  {
   "cell_type": "code",
   "execution_count": 3,
   "metadata": {},
   "outputs": [],
   "source": [
    "gmaps.configure(g_key)"
   ]
  },
  {
   "cell_type": "code",
   "execution_count": 4,
   "metadata": {
    "scrolled": true
   },
   "outputs": [],
   "source": [
    "locations = vacaweather_df[[\"Lat\",\"Lng\"]]\n",
    "humidity = vacaweather_df[\"Humidity\"]"
   ]
  },
  {
   "cell_type": "code",
   "execution_count": 5,
   "metadata": {},
   "outputs": [
    {
     "data": {
      "text/html": [
       "<div>\n",
       "<style scoped>\n",
       "    .dataframe tbody tr th:only-of-type {\n",
       "        vertical-align: middle;\n",
       "    }\n",
       "\n",
       "    .dataframe tbody tr th {\n",
       "        vertical-align: top;\n",
       "    }\n",
       "\n",
       "    .dataframe thead th {\n",
       "        text-align: right;\n",
       "    }\n",
       "</style>\n",
       "<table border=\"1\" class=\"dataframe\">\n",
       "  <thead>\n",
       "    <tr style=\"text-align: right;\">\n",
       "      <th></th>\n",
       "      <th>Lat</th>\n",
       "      <th>Lng</th>\n",
       "    </tr>\n",
       "  </thead>\n",
       "  <tbody>\n",
       "    <tr>\n",
       "      <th>0</th>\n",
       "      <td>-42.8794</td>\n",
       "      <td>147.3294</td>\n",
       "    </tr>\n",
       "    <tr>\n",
       "      <th>1</th>\n",
       "      <td>22.6783</td>\n",
       "      <td>-3.9836</td>\n",
       "    </tr>\n",
       "    <tr>\n",
       "      <th>2</th>\n",
       "      <td>-38.2667</td>\n",
       "      <td>141.9667</td>\n",
       "    </tr>\n",
       "    <tr>\n",
       "      <th>3</th>\n",
       "      <td>-16.9167</td>\n",
       "      <td>145.7667</td>\n",
       "    </tr>\n",
       "    <tr>\n",
       "      <th>4</th>\n",
       "      <td>71.9667</td>\n",
       "      <td>102.5000</td>\n",
       "    </tr>\n",
       "    <tr>\n",
       "      <th>...</th>\n",
       "      <td>...</td>\n",
       "      <td>...</td>\n",
       "    </tr>\n",
       "    <tr>\n",
       "      <th>262</th>\n",
       "      <td>0.4883</td>\n",
       "      <td>42.7854</td>\n",
       "    </tr>\n",
       "    <tr>\n",
       "      <th>263</th>\n",
       "      <td>20.4487</td>\n",
       "      <td>121.9702</td>\n",
       "    </tr>\n",
       "    <tr>\n",
       "      <th>264</th>\n",
       "      <td>64.2539</td>\n",
       "      <td>-15.2082</td>\n",
       "    </tr>\n",
       "    <tr>\n",
       "      <th>265</th>\n",
       "      <td>35.1333</td>\n",
       "      <td>140.3000</td>\n",
       "    </tr>\n",
       "    <tr>\n",
       "      <th>266</th>\n",
       "      <td>26.7292</td>\n",
       "      <td>33.9365</td>\n",
       "    </tr>\n",
       "  </tbody>\n",
       "</table>\n",
       "<p>267 rows × 2 columns</p>\n",
       "</div>"
      ],
      "text/plain": [
       "         Lat       Lng\n",
       "0   -42.8794  147.3294\n",
       "1    22.6783   -3.9836\n",
       "2   -38.2667  141.9667\n",
       "3   -16.9167  145.7667\n",
       "4    71.9667  102.5000\n",
       "..       ...       ...\n",
       "262   0.4883   42.7854\n",
       "263  20.4487  121.9702\n",
       "264  64.2539  -15.2082\n",
       "265  35.1333  140.3000\n",
       "266  26.7292   33.9365\n",
       "\n",
       "[267 rows x 2 columns]"
      ]
     },
     "execution_count": 5,
     "metadata": {},
     "output_type": "execute_result"
    }
   ],
   "source": [
    "locations"
   ]
  },
  {
   "cell_type": "code",
   "execution_count": 6,
   "metadata": {
    "scrolled": true
   },
   "outputs": [
    {
     "data": {
      "application/vnd.jupyter.widget-view+json": {
       "model_id": "5e0e8761c7ae475fa9646df8052677e8",
       "version_major": 2,
       "version_minor": 0
      },
      "text/plain": [
       "Figure(layout=FigureLayout(height='420px'))"
      ]
     },
     "metadata": {},
     "output_type": "display_data"
    }
   ],
   "source": [
    "fig=gmaps.figure()\n",
    "# df = gmaps.datasets.vacaweather_df()\n",
    "heat_layer=gmaps.heatmap_layer(\n",
    "        locations, weights=humidity, \n",
    "        dissipating=False, \n",
    "        max_intensity=100, \n",
    "        point_radius=1\n",
    "        )\n",
    "fig.add_layer(heat_layer)\n",
    "fig"
   ]
  },
  {
   "cell_type": "markdown",
   "metadata": {},
   "source": [
    "### Create new DataFrame fitting weather criteria\n",
    "* Narrow down the cities to fit weather conditions.\n",
    "* Drop any rows will null values."
   ]
  },
  {
   "cell_type": "code",
   "execution_count": 34,
   "metadata": {},
   "outputs": [
    {
     "name": "stderr",
     "output_type": "stream",
     "text": [
      "/var/folders/v0/fgqm4drj0fv_rywhmh177t240000gp/T/ipykernel_12007/3635688232.py:5: UserWarning: Boolean Series key will be reindexed to match DataFrame index.\n",
      "  perfvacaweather_df = perfwind_df[(vacaweather_df[\"Cloudiness\"]<25)]\n"
     ]
    },
    {
     "data": {
      "text/plain": [
       "Unnamed: 0     12\n",
       "City           12\n",
       "Lat            12\n",
       "Lng            12\n",
       "Max Temp(f)    12\n",
       "Humidity       12\n",
       "Cloudiness     12\n",
       "Wind Speed     12\n",
       "Country        12\n",
       "Date           12\n",
       "dtype: int64"
      ]
     },
     "execution_count": 34,
     "metadata": {},
     "output_type": "execute_result"
    }
   ],
   "source": [
    "perftemp_df = vacaweather_df.loc[(vacaweather_df[\"Max Temp(f)\"]>70) & (vacaweather_df[\"Max Temp(f)\"]<80)]\n",
    "perftemp_df.count()\n",
    "perfwind_df = perftemp_df.loc[(vacaweather_df[\"Wind Speed\"]< 10)]\n",
    "perfwind_df.count()\n",
    "perfvacaweather_df = perfwind_df[(vacaweather_df[\"Cloudiness\"]<25)]\n",
    "perfvacaweather_df\n",
    "\n",
    "\n"
   ]
  },
  {
   "cell_type": "code",
   "execution_count": 35,
   "metadata": {},
   "outputs": [
    {
     "data": {
      "text/html": [
       "<div>\n",
       "<style scoped>\n",
       "    .dataframe tbody tr th:only-of-type {\n",
       "        vertical-align: middle;\n",
       "    }\n",
       "\n",
       "    .dataframe tbody tr th {\n",
       "        vertical-align: top;\n",
       "    }\n",
       "\n",
       "    .dataframe thead th {\n",
       "        text-align: right;\n",
       "    }\n",
       "</style>\n",
       "<table border=\"1\" class=\"dataframe\">\n",
       "  <thead>\n",
       "    <tr style=\"text-align: right;\">\n",
       "      <th></th>\n",
       "      <th>Unnamed: 0</th>\n",
       "      <th>City</th>\n",
       "      <th>Lat</th>\n",
       "      <th>Lng</th>\n",
       "      <th>Max Temp(f)</th>\n",
       "      <th>Humidity</th>\n",
       "      <th>Cloudiness</th>\n",
       "      <th>Wind Speed</th>\n",
       "      <th>Country</th>\n",
       "      <th>Date</th>\n",
       "    </tr>\n",
       "  </thead>\n",
       "  <tbody>\n",
       "    <tr>\n",
       "      <th>18</th>\n",
       "      <td>18</td>\n",
       "      <td>Córdoba</td>\n",
       "      <td>-31.4135</td>\n",
       "      <td>-64.1811</td>\n",
       "      <td>77.41</td>\n",
       "      <td>23</td>\n",
       "      <td>0</td>\n",
       "      <td>5.75</td>\n",
       "      <td>AR</td>\n",
       "      <td>1659287714</td>\n",
       "    </tr>\n",
       "    <tr>\n",
       "      <th>56</th>\n",
       "      <td>56</td>\n",
       "      <td>Laguna</td>\n",
       "      <td>38.4210</td>\n",
       "      <td>-121.4238</td>\n",
       "      <td>76.32</td>\n",
       "      <td>71</td>\n",
       "      <td>0</td>\n",
       "      <td>6.91</td>\n",
       "      <td>US</td>\n",
       "      <td>1659287729</td>\n",
       "    </tr>\n",
       "    <tr>\n",
       "      <th>64</th>\n",
       "      <td>64</td>\n",
       "      <td>Avarua</td>\n",
       "      <td>-21.2078</td>\n",
       "      <td>-159.7750</td>\n",
       "      <td>73.45</td>\n",
       "      <td>68</td>\n",
       "      <td>20</td>\n",
       "      <td>6.91</td>\n",
       "      <td>CK</td>\n",
       "      <td>1659287732</td>\n",
       "    </tr>\n",
       "    <tr>\n",
       "      <th>67</th>\n",
       "      <td>67</td>\n",
       "      <td>Lompoc</td>\n",
       "      <td>34.6391</td>\n",
       "      <td>-120.4579</td>\n",
       "      <td>79.02</td>\n",
       "      <td>77</td>\n",
       "      <td>0</td>\n",
       "      <td>4.00</td>\n",
       "      <td>US</td>\n",
       "      <td>1659287733</td>\n",
       "    </tr>\n",
       "    <tr>\n",
       "      <th>69</th>\n",
       "      <td>69</td>\n",
       "      <td>Jamestown</td>\n",
       "      <td>42.0970</td>\n",
       "      <td>-79.2353</td>\n",
       "      <td>79.02</td>\n",
       "      <td>53</td>\n",
       "      <td>0</td>\n",
       "      <td>6.91</td>\n",
       "      <td>US</td>\n",
       "      <td>1659287520</td>\n",
       "    </tr>\n",
       "    <tr>\n",
       "      <th>82</th>\n",
       "      <td>82</td>\n",
       "      <td>Castro</td>\n",
       "      <td>-24.7911</td>\n",
       "      <td>-50.0119</td>\n",
       "      <td>70.21</td>\n",
       "      <td>38</td>\n",
       "      <td>0</td>\n",
       "      <td>6.06</td>\n",
       "      <td>BR</td>\n",
       "      <td>1659287739</td>\n",
       "    </tr>\n",
       "    <tr>\n",
       "      <th>119</th>\n",
       "      <td>119</td>\n",
       "      <td>Aljezur</td>\n",
       "      <td>37.3191</td>\n",
       "      <td>-8.8033</td>\n",
       "      <td>79.20</td>\n",
       "      <td>55</td>\n",
       "      <td>4</td>\n",
       "      <td>7.14</td>\n",
       "      <td>PT</td>\n",
       "      <td>1659287751</td>\n",
       "    </tr>\n",
       "    <tr>\n",
       "      <th>123</th>\n",
       "      <td>123</td>\n",
       "      <td>Nanzhou</td>\n",
       "      <td>29.3596</td>\n",
       "      <td>112.4024</td>\n",
       "      <td>78.55</td>\n",
       "      <td>71</td>\n",
       "      <td>0</td>\n",
       "      <td>5.01</td>\n",
       "      <td>CN</td>\n",
       "      <td>1659287752</td>\n",
       "    </tr>\n",
       "    <tr>\n",
       "      <th>185</th>\n",
       "      <td>185</td>\n",
       "      <td>Mimongo</td>\n",
       "      <td>-1.6195</td>\n",
       "      <td>11.6068</td>\n",
       "      <td>78.48</td>\n",
       "      <td>53</td>\n",
       "      <td>21</td>\n",
       "      <td>4.14</td>\n",
       "      <td>GA</td>\n",
       "      <td>1659287783</td>\n",
       "    </tr>\n",
       "    <tr>\n",
       "      <th>227</th>\n",
       "      <td>227</td>\n",
       "      <td>Yicheng</td>\n",
       "      <td>31.3705</td>\n",
       "      <td>119.8703</td>\n",
       "      <td>79.16</td>\n",
       "      <td>90</td>\n",
       "      <td>5</td>\n",
       "      <td>4.99</td>\n",
       "      <td>CN</td>\n",
       "      <td>1659287798</td>\n",
       "    </tr>\n",
       "    <tr>\n",
       "      <th>232</th>\n",
       "      <td>232</td>\n",
       "      <td>Ribeira Grande</td>\n",
       "      <td>38.5167</td>\n",
       "      <td>-28.7000</td>\n",
       "      <td>77.40</td>\n",
       "      <td>73</td>\n",
       "      <td>20</td>\n",
       "      <td>5.75</td>\n",
       "      <td>PT</td>\n",
       "      <td>1659287799</td>\n",
       "    </tr>\n",
       "    <tr>\n",
       "      <th>244</th>\n",
       "      <td>244</td>\n",
       "      <td>Tongliao</td>\n",
       "      <td>43.6125</td>\n",
       "      <td>122.2653</td>\n",
       "      <td>74.43</td>\n",
       "      <td>85</td>\n",
       "      <td>0</td>\n",
       "      <td>9.57</td>\n",
       "      <td>CN</td>\n",
       "      <td>1659287804</td>\n",
       "    </tr>\n",
       "  </tbody>\n",
       "</table>\n",
       "</div>"
      ],
      "text/plain": [
       "     Unnamed: 0            City      Lat       Lng  Max Temp(f)  Humidity  \\\n",
       "18           18         Córdoba -31.4135  -64.1811        77.41        23   \n",
       "56           56          Laguna  38.4210 -121.4238        76.32        71   \n",
       "64           64          Avarua -21.2078 -159.7750        73.45        68   \n",
       "67           67          Lompoc  34.6391 -120.4579        79.02        77   \n",
       "69           69       Jamestown  42.0970  -79.2353        79.02        53   \n",
       "82           82          Castro -24.7911  -50.0119        70.21        38   \n",
       "119         119         Aljezur  37.3191   -8.8033        79.20        55   \n",
       "123         123         Nanzhou  29.3596  112.4024        78.55        71   \n",
       "185         185         Mimongo  -1.6195   11.6068        78.48        53   \n",
       "227         227         Yicheng  31.3705  119.8703        79.16        90   \n",
       "232         232  Ribeira Grande  38.5167  -28.7000        77.40        73   \n",
       "244         244        Tongliao  43.6125  122.2653        74.43        85   \n",
       "\n",
       "     Cloudiness  Wind Speed Country        Date  \n",
       "18            0        5.75      AR  1659287714  \n",
       "56            0        6.91      US  1659287729  \n",
       "64           20        6.91      CK  1659287732  \n",
       "67            0        4.00      US  1659287733  \n",
       "69            0        6.91      US  1659287520  \n",
       "82            0        6.06      BR  1659287739  \n",
       "119           4        7.14      PT  1659287751  \n",
       "123           0        5.01      CN  1659287752  \n",
       "185          21        4.14      GA  1659287783  \n",
       "227           5        4.99      CN  1659287798  \n",
       "232          20        5.75      PT  1659287799  \n",
       "244           0        9.57      CN  1659287804  "
      ]
     },
     "execution_count": 35,
     "metadata": {},
     "output_type": "execute_result"
    }
   ],
   "source": [
    "perfvacaweather_df\n"
   ]
  },
  {
   "cell_type": "markdown",
   "metadata": {},
   "source": [
    "### Hotel Map\n",
    "* Store into variable named `hotel_df`.\n",
    "* Add a \"Hotel Name\" column to the DataFrame.\n",
    "* Set parameters to search for hotels with 5000 meters.\n",
    "* Hit the Google Places API for each city's coordinates.\n",
    "* Store the first Hotel result into the DataFrame.\n",
    "* Plot markers on top of the heatmap."
   ]
  },
  {
   "cell_type": "code",
   "execution_count": 46,
   "metadata": {},
   "outputs": [
    {
     "ename": "ValueError",
     "evalue": "Length of values (1) does not match length of index (12)",
     "output_type": "error",
     "traceback": [
      "\u001b[0;31m---------------------------------------------------------------------------\u001b[0m",
      "\u001b[0;31mValueError\u001b[0m                                Traceback (most recent call last)",
      "Input \u001b[0;32mIn [46]\u001b[0m, in \u001b[0;36m<cell line: 1>\u001b[0;34m()\u001b[0m\n\u001b[0;32m----> 1\u001b[0m hotel_df \u001b[38;5;241m=\u001b[39m \u001b[43mperfvacaweather_df\u001b[49m\u001b[38;5;241;43m.\u001b[39;49m\u001b[43minsert\u001b[49m\u001b[43m(\u001b[49m\u001b[38;5;241;43m0\u001b[39;49m\u001b[43m,\u001b[49m\u001b[38;5;124;43m\"\u001b[39;49m\u001b[38;5;124;43mHotel Name\u001b[39;49m\u001b[38;5;124;43m\"\u001b[39;49m\u001b[43m,\u001b[49m\u001b[43m \u001b[49m\u001b[43m[\u001b[49m\u001b[38;5;241;43m12\u001b[39;49m\u001b[43m]\u001b[49m\u001b[43m,\u001b[49m\u001b[43mallow_duplicates\u001b[49m\u001b[38;5;241;43m=\u001b[39;49m\u001b[38;5;28;43;01mFalse\u001b[39;49;00m\u001b[43m)\u001b[49m\n\u001b[1;32m      2\u001b[0m \u001b[38;5;28mprint\u001b[39m(hotel_df)\n",
      "File \u001b[0;32m~/opt/anaconda3/lib/python3.9/site-packages/pandas/core/frame.py:4444\u001b[0m, in \u001b[0;36mDataFrame.insert\u001b[0;34m(self, loc, column, value, allow_duplicates)\u001b[0m\n\u001b[1;32m   4441\u001b[0m \u001b[38;5;28;01mif\u001b[39;00m \u001b[38;5;129;01mnot\u001b[39;00m \u001b[38;5;28misinstance\u001b[39m(loc, \u001b[38;5;28mint\u001b[39m):\n\u001b[1;32m   4442\u001b[0m     \u001b[38;5;28;01mraise\u001b[39;00m \u001b[38;5;167;01mTypeError\u001b[39;00m(\u001b[38;5;124m\"\u001b[39m\u001b[38;5;124mloc must be int\u001b[39m\u001b[38;5;124m\"\u001b[39m)\n\u001b[0;32m-> 4444\u001b[0m value \u001b[38;5;241m=\u001b[39m \u001b[38;5;28;43mself\u001b[39;49m\u001b[38;5;241;43m.\u001b[39;49m\u001b[43m_sanitize_column\u001b[49m\u001b[43m(\u001b[49m\u001b[43mvalue\u001b[49m\u001b[43m)\u001b[49m\n\u001b[1;32m   4445\u001b[0m \u001b[38;5;28mself\u001b[39m\u001b[38;5;241m.\u001b[39m_mgr\u001b[38;5;241m.\u001b[39minsert(loc, column, value)\n",
      "File \u001b[0;32m~/opt/anaconda3/lib/python3.9/site-packages/pandas/core/frame.py:4535\u001b[0m, in \u001b[0;36mDataFrame._sanitize_column\u001b[0;34m(self, value)\u001b[0m\n\u001b[1;32m   4532\u001b[0m     \u001b[38;5;28;01mreturn\u001b[39;00m _reindex_for_setitem(value, \u001b[38;5;28mself\u001b[39m\u001b[38;5;241m.\u001b[39mindex)\n\u001b[1;32m   4534\u001b[0m \u001b[38;5;28;01mif\u001b[39;00m is_list_like(value):\n\u001b[0;32m-> 4535\u001b[0m     \u001b[43mcom\u001b[49m\u001b[38;5;241;43m.\u001b[39;49m\u001b[43mrequire_length_match\u001b[49m\u001b[43m(\u001b[49m\u001b[43mvalue\u001b[49m\u001b[43m,\u001b[49m\u001b[43m \u001b[49m\u001b[38;5;28;43mself\u001b[39;49m\u001b[38;5;241;43m.\u001b[39;49m\u001b[43mindex\u001b[49m\u001b[43m)\u001b[49m\n\u001b[1;32m   4536\u001b[0m \u001b[38;5;28;01mreturn\u001b[39;00m sanitize_array(value, \u001b[38;5;28mself\u001b[39m\u001b[38;5;241m.\u001b[39mindex, copy\u001b[38;5;241m=\u001b[39m\u001b[38;5;28;01mTrue\u001b[39;00m, allow_2d\u001b[38;5;241m=\u001b[39m\u001b[38;5;28;01mTrue\u001b[39;00m)\n",
      "File \u001b[0;32m~/opt/anaconda3/lib/python3.9/site-packages/pandas/core/common.py:557\u001b[0m, in \u001b[0;36mrequire_length_match\u001b[0;34m(data, index)\u001b[0m\n\u001b[1;32m    553\u001b[0m \u001b[38;5;124;03m\"\"\"\u001b[39;00m\n\u001b[1;32m    554\u001b[0m \u001b[38;5;124;03mCheck the length of data matches the length of the index.\u001b[39;00m\n\u001b[1;32m    555\u001b[0m \u001b[38;5;124;03m\"\"\"\u001b[39;00m\n\u001b[1;32m    556\u001b[0m \u001b[38;5;28;01mif\u001b[39;00m \u001b[38;5;28mlen\u001b[39m(data) \u001b[38;5;241m!=\u001b[39m \u001b[38;5;28mlen\u001b[39m(index):\n\u001b[0;32m--> 557\u001b[0m     \u001b[38;5;28;01mraise\u001b[39;00m \u001b[38;5;167;01mValueError\u001b[39;00m(\n\u001b[1;32m    558\u001b[0m         \u001b[38;5;124m\"\u001b[39m\u001b[38;5;124mLength of values \u001b[39m\u001b[38;5;124m\"\u001b[39m\n\u001b[1;32m    559\u001b[0m         \u001b[38;5;124mf\u001b[39m\u001b[38;5;124m\"\u001b[39m\u001b[38;5;124m(\u001b[39m\u001b[38;5;132;01m{\u001b[39;00m\u001b[38;5;28mlen\u001b[39m(data)\u001b[38;5;132;01m}\u001b[39;00m\u001b[38;5;124m) \u001b[39m\u001b[38;5;124m\"\u001b[39m\n\u001b[1;32m    560\u001b[0m         \u001b[38;5;124m\"\u001b[39m\u001b[38;5;124mdoes not match length of index \u001b[39m\u001b[38;5;124m\"\u001b[39m\n\u001b[1;32m    561\u001b[0m         \u001b[38;5;124mf\u001b[39m\u001b[38;5;124m\"\u001b[39m\u001b[38;5;124m(\u001b[39m\u001b[38;5;132;01m{\u001b[39;00m\u001b[38;5;28mlen\u001b[39m(index)\u001b[38;5;132;01m}\u001b[39;00m\u001b[38;5;124m)\u001b[39m\u001b[38;5;124m\"\u001b[39m\n\u001b[1;32m    562\u001b[0m     )\n",
      "\u001b[0;31mValueError\u001b[0m: Length of values (1) does not match length of index (12)"
     ]
    }
   ],
   "source": [
    "hotel_df = perfvacaweather_df.insert(0,\"Hotel Name\", [12],allow_duplicates=False)\n",
    "print(hotel_df)"
   ]
  },
  {
   "cell_type": "code",
   "execution_count": 62,
   "metadata": {},
   "outputs": [
    {
     "ename": "SyntaxError",
     "evalue": "f-string: expecting '}' (2690294621.py, line 26)",
     "output_type": "error",
     "traceback": [
      "\u001b[0;36m  Input \u001b[0;32mIn [62]\u001b[0;36m\u001b[0m\n\u001b[0;31m    print(f\"Closest Hotel is{results[0]\")\u001b[0m\n\u001b[0m                                        ^\u001b[0m\n\u001b[0;31mSyntaxError\u001b[0m\u001b[0;31m:\u001b[0m f-string: expecting '}'\n"
     ]
    }
   ],
   "source": [
    "# geocoordinates\n",
    "\n",
    "\n",
    "target_type=\"hotel\"\n",
    "Lat= perfvacaweather_df(\"Lat\")\n",
    "Lng=perfvacaweather_df(\"Lng\")\n",
    "\n",
    "radius = 5000\n",
    "base_url = \"https://maps.googleapis.com/maps/api/place/nearbysearch/json\"\n",
    "params= {\n",
    "        \"location\": f\"{Lat},{Lng}\",\n",
    "        \"radius\": radius,\n",
    "        \"types\": \"Hotel\",\n",
    "        \"key\": g_key,\n",
    "}\n",
    "\n",
    "for hotel in perfvacaweather_df[\"Hotels\"].iterrows:\n",
    "        locations= location\n",
    "        params[\"keyword\"] = Hotel\n",
    "        Print(f\"Retrieving Results for Index{index}: {hotel}.\")\n",
    "        response = requests.get(base_url, params=params).json\n",
    "\n",
    "        response=requests.get(base_url,params)\n",
    "        results = response[\"Hotels\"]\n",
    "        try:\n",
    "            print(f\"Closest Hotel is{results[0]\")\n",
    "            \n",
    "        except (KeyError, IndexError):\n",
    "            print(\"Missing Hotel in Area\")\n",
    "        print(\"------------------\")\n",
    "\n",
    "\n",
    "    "
   ]
  },
  {
   "cell_type": "code",
   "execution_count": null,
   "metadata": {},
   "outputs": [],
   "source": []
  },
  {
   "cell_type": "code",
   "execution_count": null,
   "metadata": {},
   "outputs": [],
   "source": [
    "# NOTE: Do not change any of the code in this cell\n",
    "\n",
    "# Using the template add the hotel marks to the heatmap\n",
    "info_box_template = \"\"\"\n",
    "<dl>\n",
    "<dt>Name</dt><dd>{Hotel Name}</dd>\n",
    "<dt>City</dt><dd>{City}</dd>\n",
    "<dt>Country</dt><dd>{Country}</dd>\n",
    "</dl>\n",
    "\"\"\"\n",
    "# Store the DataFrame Row\n",
    "# NOTE: be sure to update with your DataFrame name\n",
    "hotel_info = [info_box_template.format(**row) for index, row in hotel_df.iterrows()]\n",
    "locations = hotel_df[[\"Lat\", \"Lng\"]]"
   ]
  },
  {
   "cell_type": "code",
   "execution_count": null,
   "metadata": {},
   "outputs": [],
   "source": [
    "# Add marker layer ontop of heat map\n",
    "\n",
    "\n",
    "# Display figure\n"
   ]
  },
  {
   "cell_type": "code",
   "execution_count": null,
   "metadata": {},
   "outputs": [],
   "source": []
  }
 ],
 "metadata": {
  "kernelspec": {
   "display_name": "pythondata",
   "language": "python",
   "name": "pythondata"
  },
  "language_info": {
   "codemirror_mode": {
    "name": "ipython",
    "version": 3
   },
   "file_extension": ".py",
   "mimetype": "text/x-python",
   "name": "python",
   "nbconvert_exporter": "python",
   "pygments_lexer": "ipython3",
   "version": "3.9.12"
  },
  "latex_envs": {
   "LaTeX_envs_menu_present": true,
   "autoclose": false,
   "autocomplete": true,
   "bibliofile": "biblio.bib",
   "cite_by": "apalike",
   "current_citInitial": 1,
   "eqLabelWithNumbers": true,
   "eqNumInitial": 1,
   "hotkeys": {
    "equation": "Ctrl-E",
    "itemize": "Ctrl-I"
   },
   "labels_anchors": false,
   "latex_user_defs": false,
   "report_style_numbering": false,
   "user_envs_cfg": false
  }
 },
 "nbformat": 4,
 "nbformat_minor": 4
}
